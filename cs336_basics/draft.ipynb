{
 "cells": [
  {
   "cell_type": "code",
   "execution_count": 34,
   "id": "5db458de",
   "metadata": {},
   "outputs": [],
   "source": [
    "from train_bpe import process_single_chunk, train_bpe_model"
   ]
  },
  {
   "cell_type": "code",
   "execution_count": 35,
   "id": "cb888cf9",
   "metadata": {},
   "outputs": [
    {
     "data": {
      "text/plain": [
       "b'Hello world!<|endoftext|>Python is great.<|endoftext|>Test chunking.<|endoftext|>End of file.'"
      ]
     },
     "execution_count": 35,
     "metadata": {},
     "output_type": "execute_result"
    }
   ],
   "source": [
    "split_token = [\"<|endoftext|>\"]\n",
    "data = split_token[0].encode(\"utf-8\").join([\n",
    "    b\"Hello world!\",\n",
    "    b\"Python is great.\",\n",
    "    b\"Test chunking.\",\n",
    "    b\"End of file.\"\n",
    "])\n",
    "split_token_bytes = split_token[0].encode(\"utf-8\")\n",
    "data"
   ]
  },
  {
   "cell_type": "code",
   "execution_count": 47,
   "id": "d7dbe140",
   "metadata": {},
   "outputs": [
    {
     "data": {
      "text/plain": [
       "[[b'H', b'e', b'l', b'l', b'o'],\n",
       " [b' ', b'w', b'o', b'r', b'l', b'd'],\n",
       " [b'!'],\n",
       " [b'<|endoftext|>'],\n",
       " [b'P', b'y', b't', b'h', b'o', b'n'],\n",
       " [b' ', b'i', b's'],\n",
       " [b' ', b'g', b'r', b'e', b'a', b't'],\n",
       " [b'.'],\n",
       " [b'<|endoftext|>'],\n",
       " [b'T', b'e', b's', b't'],\n",
       " [b' ', b'c', b'h', b'u', b'n', b'k', b'i', b'n', b'g'],\n",
       " [b'.'],\n",
       " [b'<|endoftext|>'],\n",
       " [b'E', b'n', b'd'],\n",
       " [b' ', b'o', b'f'],\n",
       " [b' ', b'f', b'i', b'l', b'e'],\n",
       " [b'.']]"
      ]
     },
     "execution_count": 47,
     "metadata": {},
     "output_type": "execute_result"
    }
   ],
   "source": [
    "tokens_lst = process_single_chunk((0, len(data), data, split_token_bytes))\n",
    "tokens_lst"
   ]
  },
  {
   "cell_type": "code",
   "execution_count": 37,
   "id": "1ed1c6d9",
   "metadata": {},
   "outputs": [
    {
     "data": {
      "text/plain": [
       "b'ab'"
      ]
     },
     "execution_count": 37,
     "metadata": {},
     "output_type": "execute_result"
    }
   ],
   "source": [
    "bytes([97]) + bytes([98])"
   ]
  },
  {
   "cell_type": "code",
   "execution_count": 48,
   "id": "cf446928",
   "metadata": {},
   "outputs": [
    {
     "data": {
      "text/plain": [
       "[b'He',\n",
       " b'Hel',\n",
       " b'Hell',\n",
       " b'Hello',\n",
       " b' w',\n",
       " b' wo',\n",
       " b' wor',\n",
       " b' worl',\n",
       " b' world',\n",
       " b'Py',\n",
       " b'Pyt',\n",
       " b'Pyth',\n",
       " b'Pytho',\n",
       " b'Python',\n",
       " b' i',\n",
       " b' is',\n",
       " b' g',\n",
       " b' gr',\n",
       " b' gre',\n",
       " b' grea',\n",
       " b' great',\n",
       " b'Te',\n",
       " b'Tes',\n",
       " b'Test',\n",
       " b' c',\n",
       " b' ch',\n",
       " b' chu',\n",
       " b' chun',\n",
       " b' chunk',\n",
       " b' chunki',\n",
       " b' chunkin',\n",
       " b' chunking',\n",
       " b'En',\n",
       " b'End',\n",
       " b' o',\n",
       " b' of',\n",
       " b' f',\n",
       " b' fi',\n",
       " b' fil',\n",
       " b' file']"
      ]
     },
     "execution_count": 48,
     "metadata": {},
     "output_type": "execute_result"
    }
   ],
   "source": [
    "from collections import defaultdict\n",
    "\n",
    "vocab_size = 50\n",
    "vocab_lst = []\n",
    "merge_lst = []\n",
    "\n",
    "for _ in range(len(vocab_lst), vocab_size):\n",
    "    count = defaultdict(int)\n",
    "    # Find the most frequent byte pair in the tokens_lst\n",
    "    for it in tokens_lst:\n",
    "        for i in range(len(it) - 1):\n",
    "            pair = (it[i], it[i + 1])\n",
    "            count[pair] += 1\n",
    "    if not count:\n",
    "        break\n",
    "    max_pair = max(count, key=count.get)\n",
    "\n",
    "    new_vocab = max_pair[0] + max_pair[1]\n",
    "    vocab_lst.append(new_vocab)\n",
    "    merge_lst.append(max_pair)\n",
    "\n",
    "    new_tokens_lst = []\n",
    "    for it in tokens_lst:\n",
    "        i = 0\n",
    "        new_token = []\n",
    "        while i < len(it):\n",
    "            if i < len(it) - 1 and (it[i], it[i + 1]) == max_pair:\n",
    "                new_token.append(new_vocab)\n",
    "                i += 2\n",
    "            else:\n",
    "                new_token.append(it[i])\n",
    "                i += 1\n",
    "        new_tokens_lst.append(new_token)\n",
    "\n",
    "    tokens_lst = new_tokens_lst\n",
    "\n",
    "vocab_lst"
   ]
  }
 ],
 "metadata": {
  "kernelspec": {
   "display_name": ".venv",
   "language": "python",
   "name": "python3"
  },
  "language_info": {
   "codemirror_mode": {
    "name": "ipython",
    "version": 3
   },
   "file_extension": ".py",
   "mimetype": "text/x-python",
   "name": "python",
   "nbconvert_exporter": "python",
   "pygments_lexer": "ipython3",
   "version": "3.12.8"
  }
 },
 "nbformat": 4,
 "nbformat_minor": 5
}
