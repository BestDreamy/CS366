{
 "cells": [
  {
   "cell_type": "code",
   "execution_count": 76,
   "id": "5db458de",
   "metadata": {},
   "outputs": [],
   "source": [
    "import regex"
   ]
  },
  {
   "cell_type": "code",
   "execution_count": 77,
   "id": "ee79679f",
   "metadata": {},
   "outputs": [
    {
     "name": "stdout",
     "output_type": "stream",
     "text": [
      "<\\|endoftext\\|>|<\\|startoftext\\|>|<\\|pad\\|>|<\\|unk\\|>|<\\|mask\\|>\n",
      "(<\\|endoftext\\|>|<\\|startoftext\\|>|<\\|pad\\|>|<\\|unk\\|>|<\\|mask\\|>)\n"
     ]
    }
   ],
   "source": [
    "special_tokens_list_str = [\n",
    "    \"<|endoftext|>\",\n",
    "    \"<|startoftext|>\",\n",
    "    \"<|pad|>\",\n",
    "    \"<|unk|>\",\n",
    "    \"<|mask|>\",\n",
    "]\n",
    "special_tokens_pattern_str = \"|\".join(regex.escape(token) for token in special_tokens_list_str)\n",
    "\n",
    "split_pattern = f'({special_tokens_pattern_str})'\n",
    "print(special_tokens_pattern_str)\n",
    "print(split_pattern)"
   ]
  },
  {
   "cell_type": "code",
   "execution_count": 78,
   "id": "cb888cf9",
   "metadata": {},
   "outputs": [
    {
     "data": {
      "text/plain": [
       "b'Hello world!<|endoftext|>Python is great.<|endoftext|>Test chunking.<|endoftext|>End of file.'"
      ]
     },
     "execution_count": 78,
     "metadata": {},
     "output_type": "execute_result"
    }
   ],
   "source": [
    "special_token = [\"<|endoftext|>\"]\n",
    "chunk_bytes = special_token[0].encode(\"utf-8\").join([\n",
    "    b\"Hello world!\",\n",
    "    b\"Python is great.\",\n",
    "    b\"Test chunking.\",\n",
    "    b\"End of file.\"\n",
    "])\n",
    "chunk_bytes"
   ]
  },
  {
   "cell_type": "code",
   "execution_count": 84,
   "id": "d7dbe140",
   "metadata": {},
   "outputs": [
    {
     "data": {
      "text/plain": [
       "[[b'H', b'e', b'l', b'l', b'o'],\n",
       " [b' ', b'w', b'o', b'r', b'l', b'd'],\n",
       " [b'!'],\n",
       " [b'<|endoftext|>'],\n",
       " [b'P', b'y', b't', b'h', b'o', b'n'],\n",
       " [b' ', b'i', b's'],\n",
       " [b' ', b'g', b'r', b'e', b'a', b't'],\n",
       " [b'.'],\n",
       " [b'<|endoftext|>'],\n",
       " [b'T', b'e', b's', b't'],\n",
       " [b' ', b'c', b'h', b'u', b'n', b'k', b'i', b'n', b'g'],\n",
       " [b'.'],\n",
       " [b'<|endoftext|>'],\n",
       " [b'E', b'n', b'd'],\n",
       " [b' ', b'o', b'f'],\n",
       " [b' ', b'f', b'i', b'l', b'e'],\n",
       " [b'.']]"
      ]
     },
     "execution_count": 84,
     "metadata": {},
     "output_type": "execute_result"
    }
   ],
   "source": [
    "chunk_text = chunk_bytes.decode(\"utf-8\", errors=\"ignore\")\n",
    "\n",
    "# Regex just support str\n",
    "special_token_str = special_token[0]\n",
    "special_escape_token = f'({regex.escape(special_token_str)})'\n",
    "\n",
    "segments = regex.split(special_escape_token, chunk_text) # regex.split(str, str)\n",
    "\n",
    "byte_lst: list[list[bytes]] = []\n",
    "\n",
    "\n",
    "for i in range(len(segments)):\n",
    "    if segments[i] == special_token_str:\n",
    "        byte_lst.append([special_token_str.encode(\"utf-8\")])\n",
    "    else:\n",
    "        PAT = r\"\"\"'(?:[sdmt]|ll|ve|re)| ?\\p{L}+| ?\\p{N}+| ?[^\\s\\p{L}\\p{N}]+|\\s+(?!\\S)|\\s+\"\"\"\n",
    "        for match in regex.finditer(PAT, segments[i]):\n",
    "            match_str = match.group(0)\n",
    "            byte_lst.append([bytes([c]) for c in match_str.encode(\"utf-8\")])\n",
    "\n",
    "byte_lst"
   ]
  },
  {
   "cell_type": "code",
   "execution_count": 80,
   "id": "1ed1c6d9",
   "metadata": {},
   "outputs": [
    {
     "data": {
      "text/plain": [
       "b'ab'"
      ]
     },
     "execution_count": 80,
     "metadata": {},
     "output_type": "execute_result"
    }
   ],
   "source": [
    "bytes([97]) + bytes([98])"
   ]
  },
  {
   "cell_type": "code",
   "execution_count": 81,
   "id": "cf446928",
   "metadata": {},
   "outputs": [
    {
     "data": {
      "text/plain": [
       "[]"
      ]
     },
     "execution_count": 81,
     "metadata": {},
     "output_type": "execute_result"
    }
   ],
   "source": [
    "from collections import defaultdict\n",
    "\n",
    "vocab_size = 50\n",
    "vocab_lst = []\n",
    "merge_lst = []\n",
    "\n",
    "for _ in range(len(vocab_lst), vocab_size):\n",
    "    count = defaultdict(int)\n",
    "    # Find the most frequent byte pair in the tokens_lst\n",
    "    for it in tokens_lst:\n",
    "        for i in range(len(it) - 1):\n",
    "            pair = (it[i], it[i + 1])\n",
    "            count[pair] += 1\n",
    "    if not count:\n",
    "        break\n",
    "    max_pair = max(count, key=count.get)\n",
    "\n",
    "    new_vocab = max_pair[0] + max_pair[1]\n",
    "    vocab_lst.append(new_vocab)\n",
    "    merge_lst.append(max_pair)\n",
    "\n",
    "    new_tokens_lst = []\n",
    "    for it in tokens_lst:\n",
    "        i = 0\n",
    "        new_token = []\n",
    "        while i < len(it):\n",
    "            if i < len(it) - 1 and (it[i], it[i + 1]) == max_pair:\n",
    "                new_token.append(new_vocab)\n",
    "                i += 2\n",
    "            else:\n",
    "                new_token.append(it[i])\n",
    "                i += 1\n",
    "        new_tokens_lst.append(new_token)\n",
    "\n",
    "    tokens_lst = new_tokens_lst\n",
    "\n",
    "vocab_lst"
   ]
  }
 ],
 "metadata": {
  "kernelspec": {
   "display_name": ".venv",
   "language": "python",
   "name": "python3"
  },
  "language_info": {
   "codemirror_mode": {
    "name": "ipython",
    "version": 3
   },
   "file_extension": ".py",
   "mimetype": "text/x-python",
   "name": "python",
   "nbconvert_exporter": "python",
   "pygments_lexer": "ipython3",
   "version": "3.12.8"
  }
 },
 "nbformat": 4,
 "nbformat_minor": 5
}
